{
 "cells": [
  {
   "cell_type": "code",
   "execution_count": 1,
   "metadata": {},
   "outputs": [
    {
     "data": {
      "text/plain": [
       "'c:\\\\Users\\\\Nandhakumar\\\\Documents\\\\End to End Projects\\\\solar-radiation-prediction\\\\research'"
      ]
     },
     "execution_count": 1,
     "metadata": {},
     "output_type": "execute_result"
    }
   ],
   "source": [
    "%pwd"
   ]
  },
  {
   "cell_type": "code",
   "execution_count": 2,
   "metadata": {},
   "outputs": [],
   "source": [
    "import os\n",
    "os.chdir(\"../\")"
   ]
  },
  {
   "cell_type": "code",
   "execution_count": 3,
   "metadata": {},
   "outputs": [
    {
     "data": {
      "text/plain": [
       "'c:\\\\Users\\\\Nandhakumar\\\\Documents\\\\End to End Projects\\\\solar-radiation-prediction'"
      ]
     },
     "execution_count": 3,
     "metadata": {},
     "output_type": "execute_result"
    }
   ],
   "source": [
    "%pwd"
   ]
  },
  {
   "cell_type": "code",
   "execution_count": 4,
   "metadata": {},
   "outputs": [],
   "source": [
    "from dataclasses import dataclass\n",
    "from pathlib import Path\n",
    "\n",
    "@dataclass(frozen=True)\n",
    "class ModelEvaluationConfig:\n",
    "    root_dir : Path\n",
    "    val_feature_path: str\n",
    "    val_target_path: str\n",
    "    trained_model_path: str\n",
    "    metric_file_name: str"
   ]
  },
  {
   "cell_type": "code",
   "execution_count": 5,
   "metadata": {},
   "outputs": [],
   "source": [
    "from solarRadiation.constants import *\n",
    "from solarRadiation.utils.common import read_yaml, create_directories\n"
   ]
  },
  {
   "cell_type": "code",
   "execution_count": 6,
   "metadata": {},
   "outputs": [],
   "source": [
    "class ConfigurationManager:\n",
    "    def __init__(\n",
    "            self,\n",
    "            config_file_path = CONFIG_FILE_PATH,\n",
    "            params_filepath = PARAMS_FILE_PATH):\n",
    "        \n",
    "        self.config = read_yaml(config_file_path)\n",
    "        self.params = read_yaml(params_filepath)\n",
    "\n",
    "        create_directories([self.config.artifacts_root])\n",
    "\n",
    "    def get_model_evaluation_config(self) -> ModelEvaluationConfig:\n",
    "        config = self.config.model_evaluation\n",
    "\n",
    "        create_directories([config.root_dir])\n",
    "\n",
    "        model_evaluation_config = ModelEvaluationConfig(\n",
    "            root_dir= config.root_dir,\n",
    "            val_feature_path= config.val_feature_path,\n",
    "            val_target_path= config.val_target_path,\n",
    "            trained_model_path= config.trained_model_path,\n",
    "            metric_file_name= config.metric_file_name\n",
    "        )\n",
    "\n",
    "        return model_evaluation_config"
   ]
  },
  {
   "cell_type": "code",
   "execution_count": 7,
   "metadata": {},
   "outputs": [
    {
     "name": "stdout",
     "output_type": "stream",
     "text": [
      "[2023-11-28 20:01:58,554: INFO: utils: NumExpr defaulting to 2 threads.]\n"
     ]
    }
   ],
   "source": [
    "from sklearn.metrics import r2_score, mean_absolute_error, mean_squared_error\n",
    "import pickle\n",
    "from solarRadiation.logging import logger\n",
    "import numpy as np\n",
    "import pandas as pd"
   ]
  },
  {
   "cell_type": "code",
   "execution_count": 33,
   "metadata": {},
   "outputs": [],
   "source": [
    "class ModelEvaluation:\n",
    "    def __init__(self, config=ModelEvaluationConfig):\n",
    "        self.config = config\n",
    "\n",
    "    def evaluate(self):\n",
    "        model = pickle.load(open(self.config.trained_model_path,'rb'))\n",
    "        x_val = pickle.load(open(self.config.val_feature_path,'rb'))\n",
    "        y_val = pickle.load(open(self.config.val_target_path,'rb'))\n",
    "\n",
    "        prediction = model.predict(x_val)\n",
    "\n",
    "        model_score = r2_score(y_val, prediction)\n",
    "        absolute_error = mean_absolute_error(y_val, prediction)\n",
    "        squared_error = mean_squared_error(y_val, prediction)\n",
    "        root_squared_error = np.sqrt(mean_squared_error(y_val, prediction))\n",
    "        logger.info(\"Model evaluated successfully\")\n",
    "\n",
    "        metrics_dict = {'Score': [model_score],'MAE':[absolute_error],'MSE':[squared_error],'RMSE':[root_squared_error]}\n",
    "\n",
    "        df = pd.DataFrame.from_dict(metrics_dict)\n",
    "        \n",
    "        df.to_csv(self.config.metric_file_name, index=False)\n",
    "        logger.info(f\"Metrics recorded and stored in {self.config.metric_file_name}\")"
   ]
  },
  {
   "cell_type": "code",
   "execution_count": 34,
   "metadata": {},
   "outputs": [
    {
     "name": "stdout",
     "output_type": "stream",
     "text": [
      "[2023-11-28 20:30:07,270: INFO: common: yaml file config\\config.yaml loaded successfully]\n",
      "[2023-11-28 20:30:07,278: INFO: common: yaml file params.yaml loaded successfully]\n",
      "[2023-11-28 20:30:07,278: INFO: common: Created directory at artifacts]\n",
      "[2023-11-28 20:30:07,286: INFO: common: Created directory at artifacts/model_evaluation]\n",
      "[2023-11-28 20:30:12,430: INFO: 1748672834: Model evaluated successfully]\n",
      "[2023-11-28 20:30:12,464: INFO: 1748672834: Metrics recorded and stored in artifacts/model_evaluation/metrics.csv]\n"
     ]
    }
   ],
   "source": [
    "try:\n",
    "    config = ConfigurationManager()\n",
    "    model_evaluation_config = config.get_model_evaluation_config()\n",
    "    model_evaluation = ModelEvaluation(config=model_evaluation_config)\n",
    "    model_evaluation.evaluate()\n",
    "except Exception as e:\n",
    "    raise e"
   ]
  }
 ],
 "metadata": {
  "kernelspec": {
   "display_name": "base",
   "language": "python",
   "name": "python3"
  },
  "language_info": {
   "codemirror_mode": {
    "name": "ipython",
    "version": 3
   },
   "file_extension": ".py",
   "mimetype": "text/x-python",
   "name": "python",
   "nbconvert_exporter": "python",
   "pygments_lexer": "ipython3",
   "version": "3.11.3"
  }
 },
 "nbformat": 4,
 "nbformat_minor": 2
}
