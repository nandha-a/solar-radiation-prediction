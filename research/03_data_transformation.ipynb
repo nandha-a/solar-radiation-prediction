{
 "cells": [
  {
   "cell_type": "code",
   "execution_count": 2,
   "metadata": {},
   "outputs": [
    {
     "data": {
      "text/plain": [
       "'c:\\\\Users\\\\Nandhakumar\\\\Documents\\\\End to End Projects\\\\solar-radiation-prediction\\\\research'"
      ]
     },
     "execution_count": 2,
     "metadata": {},
     "output_type": "execute_result"
    }
   ],
   "source": [
    "%pwd"
   ]
  },
  {
   "cell_type": "code",
   "execution_count": 3,
   "metadata": {},
   "outputs": [],
   "source": [
    "import os\n",
    "os.chdir(\"../\")"
   ]
  },
  {
   "cell_type": "code",
   "execution_count": 4,
   "metadata": {},
   "outputs": [
    {
     "data": {
      "text/plain": [
       "'c:\\\\Users\\\\Nandhakumar\\\\Documents\\\\End to End Projects\\\\solar-radiation-prediction'"
      ]
     },
     "execution_count": 4,
     "metadata": {},
     "output_type": "execute_result"
    }
   ],
   "source": [
    "%pwd"
   ]
  },
  {
   "cell_type": "code",
   "execution_count": 5,
   "metadata": {},
   "outputs": [],
   "source": [
    "from dataclasses import dataclass\n",
    "from pathlib import Path\n",
    "\n",
    "@dataclass(frozen=True)\n",
    "class DataTransformationConfig:\n",
    "    root_dir : Path\n",
    "    train_data_path: str\n",
    "    test_data_path: str\n",
    "    validation_data_path: str\n",
    "    transformed_data_path: Path"
   ]
  },
  {
   "cell_type": "code",
   "execution_count": 6,
   "metadata": {},
   "outputs": [],
   "source": [
    "from solarRadiation.constants import *\n",
    "from solarRadiation.utils.common import read_yaml, create_directories\n"
   ]
  },
  {
   "cell_type": "code",
   "execution_count": 7,
   "metadata": {},
   "outputs": [],
   "source": [
    "class ConfigurationManager:\n",
    "    def __init__(\n",
    "            self,\n",
    "            config_file_path = CONFIG_FILE_PATH,\n",
    "            params_filepath = PARAMS_FILE_PATH):\n",
    "        \n",
    "        self.config = read_yaml(config_file_path)\n",
    "        self.params = read_yaml(params_filepath)\n",
    "\n",
    "        create_directories([self.config.artifacts_root])\n",
    "\n",
    "    def get_data_transformation_config(self) -> DataTransformationConfig:\n",
    "        config = self.config.data_transformation\n",
    "\n",
    "        create_directories([config.root_dir])\n",
    "\n",
    "        data_transformation_config = DataTransformationConfig(\n",
    "            root_dir= config.root_dir,\n",
    "            train_data_path = config.train_data_path,\n",
    "            test_data_path= config.test_data_path,\n",
    "            validation_data_path=config.validation_data_path,\n",
    "            transformed_data_path = config.transformed_data_path\n",
    "        )\n",
    "\n",
    "        return data_transformation_config"
   ]
  },
  {
   "cell_type": "code",
   "execution_count": 38,
   "metadata": {},
   "outputs": [],
   "source": [
    "import pandas as pd\n",
    "from sklearn.preprocessing import StandardScaler\n",
    "\n",
    "class DataTransformation:\n",
    "    def __init__(self, config = DataTransformationConfig):\n",
    "        self.config = config\n",
    "        self.transformer = StandardScaler()\n",
    "        self.target = \"Clearsky DNI\"\n",
    "\n",
    "    def transform_data(self):\n",
    "        train = pd.read_csv(self.config.train_data_path)\n",
    "        test = pd.read_csv(self.config.test_data_path)\n",
    "        validation = pd.read_csv(self.config.validation_data_path)\n",
    "\n",
    "        tr_data = train.drop([\"Clearsky DNI\",\"Timestamp\"], axis=1)\n",
    "\n",
    "        col_list = list(tr_data.columns)\n",
    "\n",
    "        high_correlation = []\n",
    "        low_correlation = []\n",
    "        for col in col_list:\n",
    "            if (train[col].corr(train[self.target]) > 0.50) or (train[col].corr(train[self.target]) < -0.50):\n",
    "                high_correlation.append(col)\n",
    "            else:\n",
    "                low_correlation.append(col)\n",
    "\n",
    "        x_train = train.loc[:,high_correlation]\n",
    "        x_test = test.loc[:, high_correlation]\n",
    "        x_val = validation.loc[:, high_correlation]\n",
    "        y_train = train[self.target]\n",
    "        y_val = validation[self.target]\n",
    "\n",
    "        X_train = self.transformer.fit_transform(x_train)\n",
    "        X_test = self.transformer.transform(x_test)\n",
    "        X_val = self.transformer.transform(x_val)\n",
    "\n",
    "        create_directories([self.config.transformed_data_path])\n",
    "\n",
    "        X_train.dump(os.path.join(self.config.transformed_data_path,'x_train.pkl'))\n",
    "        X_test.dump(os.path.join(self.config.transformed_data_path,'x_test.pkl'))\n",
    "        X_val.dump(os.path.join(self.config.transformed_data_path,'x_validation.pkl'))\n",
    "        y_train.to_pickle(os.path.join(self.config.transformed_data_path,'y_train.pkl'))\n",
    "        y_val.to_pickle(os.path.join(self.config.transformed_data_path,'y_validation.pkl'))\n"
   ]
  },
  {
   "cell_type": "code",
   "execution_count": 39,
   "metadata": {},
   "outputs": [
    {
     "name": "stdout",
     "output_type": "stream",
     "text": [
      "[2023-11-28 09:24:53,548: INFO: common: yaml file config\\config.yaml loaded successfully]\n",
      "[2023-11-28 09:24:53,548: INFO: common: yaml file params.yaml loaded successfully]\n",
      "[2023-11-28 09:24:53,548: INFO: common: Created directory at artifacts]\n",
      "[2023-11-28 09:24:53,556: INFO: common: Created directory at artifacts/data_transformation]\n",
      "[2023-11-28 09:24:55,601: INFO: common: Created directory at artifacts/data_transformation/data]\n"
     ]
    }
   ],
   "source": [
    "try:\n",
    "    config = ConfigurationManager()\n",
    "    data_transformation_config = config.get_data_transformation_config()\n",
    "    data_transformation = DataTransformation(config=data_transformation_config)\n",
    "    data_transformation.transform_data()\n",
    "except Exception as e:\n",
    "    raise e"
   ]
  },
  {
   "cell_type": "code",
   "execution_count": null,
   "metadata": {},
   "outputs": [],
   "source": []
  }
 ],
 "metadata": {
  "kernelspec": {
   "display_name": "base",
   "language": "python",
   "name": "python3"
  },
  "language_info": {
   "codemirror_mode": {
    "name": "ipython",
    "version": 3
   },
   "file_extension": ".py",
   "mimetype": "text/x-python",
   "name": "python",
   "nbconvert_exporter": "python",
   "pygments_lexer": "ipython3",
   "version": "3.11.3"
  }
 },
 "nbformat": 4,
 "nbformat_minor": 2
}
